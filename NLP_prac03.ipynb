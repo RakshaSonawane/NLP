{
 "cells": [
  {
   "cell_type": "code",
   "execution_count": 1,
   "id": "f75512cf-22ba-46a0-b961-39977ba02d9a",
   "metadata": {},
   "outputs": [],
   "source": [
    "from nltk.corpus import stopwords\n"
   ]
  },
  {
   "cell_type": "code",
   "execution_count": 2,
   "id": "34fdfbf0-f087-4247-86e5-699038f767a8",
   "metadata": {},
   "outputs": [
    {
     "name": "stdout",
     "output_type": "stream",
     "text": [
      "['will', 'whom', 'herself', 'just', \"you'd\", 'to', 'll', 'at', 'the', 'hers', 'such', 'these', 'there', \"shouldn't\", 'here', 'himself', 'doing', 've', \"couldn't\", 'be', 'our', 'd', \"needn't\", 'between', 'under', 'me', 'am', 'haven', 'did', 'while', 'below', 'with', 'in', \"don't\", 'had', 'all', 'some', 'both', \"mustn't\", 'her', 'y', 'doesn', 'my', \"won't\", 'once', 'hasn', 'into', 'don', 'its', 'too', 'shan', 'been', 'nor', 'a', 'further', 'out', 'other', \"it's\", 'are', 'about', 'same', 'do', \"you're\", 'an', 'can', 'as', 'wasn', 'because', \"wasn't\", 'if', \"you've\", 'yourselves', \"isn't\", 'wouldn', 'why', 'it', \"should've\", 'where', 're', \"didn't\", 'your', 'ourselves', \"wouldn't\", 'is', 'few', 'no', \"that'll\", 'very', 'he', 'yours', 'we', 'him', 'from', 'weren', 'of', 'have', 'but', 'so', \"weren't\", 'mustn', 'by', 'isn', 'myself', 'them', 'what', 'their', 'or', 'shouldn', 'than', 'theirs', 'not', 'mightn', 'does', \"aren't\", 'any', \"she's\", 'this', 'when', 'she', 'who', 'being', 'over', 's', 'needn', 'each', 'should', 'most', 'own', 'down', 'having', 'more', 'you', \"haven't\", 'm', 'through', 'his', 'again', \"mightn't\", 'yourself', 'has', 'during', 'before', 'i', 'off', 'now', \"doesn't\", 'they', 'those', 'up', 'itself', 'for', 'ma', 'hadn', 'after', 'only', 'o', 'above', 'aren', \"hasn't\", 'ours', 'that', 'didn', \"hadn't\", 'won', 'themselves', 'was', 'were', 'against', 'and', 'on', \"you'll\", 'how', 'until', 'then', \"shan't\", 'couldn', 'ain', 'which', 't']\n"
     ]
    }
   ],
   "source": [
    "stop_words=list(set(stopwords.words('english')))\n",
    "print(stop_words)\n"
   ]
  },
  {
   "cell_type": "code",
   "execution_count": 3,
   "id": "7a03f2f3-c979-4c34-a3ec-875139d8ff5e",
   "metadata": {},
   "outputs": [
    {
     "name": "stdout",
     "output_type": "stream",
     "text": [
      "False Before Nomalization\n",
      "True After Nomalization\n"
     ]
    }
   ],
   "source": [
    "string_1='This course on AI is a good course, where we will try to cover multiple concepts.'\n",
    "string_2='This course on AI is a Good Course, where We will try to cover multiple Concepts.'\n",
    "\n",
    "print(string_1==string_2,'Before Nomalization')\n",
    "\n",
    "string_1=string_1.lower()\n",
    "string_2=string_2.lower()\n",
    "\n",
    "print(string_1==string_2,'After Nomalization')\n"
   ]
  },
  {
   "cell_type": "code",
   "execution_count": 4,
   "id": "7a91fcd1-9426-4980-8be5-7d28620beb69",
   "metadata": {},
   "outputs": [
    {
     "name": "stdout",
     "output_type": "stream",
     "text": [
      "False Before Normalization\n",
      "i like avenger but not a great movie for grown ups\n",
      "i likes avenger but not a great movie for grown ups\n"
     ]
    }
   ],
   "source": [
    "spel_1='i like avenger but not a Great Movie for grown-ups'\n",
    "spel_2='i likes avenger but not a great movie for grown ups'\n",
    "\n",
    "print(spel_1==spel_2,'Before Normalization')\n",
    "\n",
    "#case normalisation\n",
    "spel_1=spel_1.lower()\n",
    "spel_2=spel_2.lower()\n",
    "\n",
    "#Replacing\n",
    "spel_1=spel_1.replace('-',\" \")\n",
    "spel_2=spel_2.replace(' ',\" \")\n",
    "\n",
    "print(spel_1)\n",
    "print(spel_2)\n"
   ]
  },
  {
   "cell_type": "code",
   "execution_count": 5,
   "id": "10174cf5-7371-4114-863f-479c37c9b0a3",
   "metadata": {},
   "outputs": [],
   "source": [
    "# stemming and Lemmatization of a sentence\n",
    "#stemming\n",
    "from nltk.stem import PorterStemmer\n",
    "ps=PorterStemmer()\n",
    "\n",
    "#Lemmatization\n",
    "from nltk.stem import WordNetLemmatizer\n",
    "lema=WordNetLemmatizer()\n"
   ]
  },
  {
   "cell_type": "code",
   "execution_count": 6,
   "id": "7aa7edf5-e9a1-41b2-82d0-b12caf45465a",
   "metadata": {},
   "outputs": [
    {
     "name": "stdout",
     "output_type": "stream",
     "text": [
      "['i', 'like', 'avenger', 'but', 'not', 'a', 'great', 'movie', 'for', 'grown', 'ups']\n",
      "['i', 'likes', 'avenger', 'but', 'not', 'a', 'great', 'movie', 'for', 'grown', 'ups']\n"
     ]
    }
   ],
   "source": [
    "spel_1=spel_1.split()\n",
    "spel_2=spel_2.split()\n",
    "print(spel_1)\n",
    "print(spel_2)"
   ]
  },
  {
   "cell_type": "code",
   "execution_count": 7,
   "id": "6a33d9df-12d4-40d3-ba37-5e59bac2b062",
   "metadata": {},
   "outputs": [
    {
     "name": "stdout",
     "output_type": "stream",
     "text": [
      "['i', 'like', 'aveng', 'but', 'not', 'a', 'great', 'movi', 'for', 'grown', 'up']\n",
      "['i', 'like', 'aveng', 'but', 'not', 'a', 'great', 'movi', 'for', 'grown', 'up']\n"
     ]
    }
   ],
   "source": [
    "stemmed_spel_1=[]\n",
    "stemmed_spel_2=[]\n",
    "\n",
    "for word in spel_1:\n",
    "    stem_word=ps.stem(word)\n",
    "    stemmed_spel_1.append(stem_word)\n",
    "\n",
    "for word in spel_2:\n",
    "    stem_word=ps.stem(word)\n",
    "    stemmed_spel_2.append(stem_word)\n",
    "    \n",
    "    \n",
    "print(stemmed_spel_1)\n",
    "print(stemmed_spel_2)\n"
   ]
  },
  {
   "cell_type": "code",
   "execution_count": 8,
   "id": "a952bec3-5a48-4952-8558-fe903b4422d8",
   "metadata": {},
   "outputs": [
    {
     "name": "stdout",
     "output_type": "stream",
     "text": [
      "i like aveng but not a great movi for grown up\n",
      "i like aveng but not a great movi for grown up\n"
     ]
    }
   ],
   "source": [
    "cleaned_sent_1=\" \".join(stemmed_spel_1)\n",
    "cleaned_sent_2=\" \".join(stemmed_spel_2)\n",
    "\n",
    "print(cleaned_sent_1)\n",
    "print(cleaned_sent_2)\n"
   ]
  },
  {
   "cell_type": "code",
   "execution_count": 9,
   "id": "357bc1a9-fb3e-4ca7-9b77-84df6420bfa7",
   "metadata": {},
   "outputs": [
    {
     "name": "stdout",
     "output_type": "stream",
     "text": [
      "True\n"
     ]
    }
   ],
   "source": [
    "print(cleaned_sent_1==cleaned_sent_2)\n"
   ]
  },
  {
   "cell_type": "code",
   "execution_count": 10,
   "id": "91ef88fa-0482-400b-bf83-9c86a7ce7c6c",
   "metadata": {},
   "outputs": [
    {
     "name": "stdout",
     "output_type": "stream",
     "text": [
      "dy after stemming\n",
      "Dying after lemmatizing\n"
     ]
    }
   ],
   "source": [
    "#stemming and lemmatization of a word\n",
    "stem_word=ps.stem('Dying')\n",
    "lem_word=lema.lemmatize('Dying')\n",
    "\n",
    "print(stem_word,'after stemming')\n",
    "print(lem_word,'after lemmatizing')\n"
   ]
  },
  {
   "cell_type": "code",
   "execution_count": 11,
   "id": "5b1f478c-1268-461c-b8e5-1e4d85c3b868",
   "metadata": {},
   "outputs": [],
   "source": [
    "# Lemmatization using def function\n",
    "spel_1='i like avenger but not a Great Movie for grown-ups'\n",
    "spel_2='i likes avenger but not a great movie for grown ups'\n",
    "\n",
    "def apply_lema(sentence):\n",
    "    clean_list=[]\n",
    "    sentence=sentence.lower()\n",
    "    sentence=sentence.replace('-',' ')\n",
    "    sentence=sentence.split()\n",
    "    for word in sentence:\n",
    "        word=lema.lemmatize(word)\n",
    "        clean_list.append(word)\n",
    "    clean_sent=\" \".join(clean_list)\n",
    "    return clean_sent\n",
    "    \n"
   ]
  },
  {
   "cell_type": "code",
   "execution_count": 12,
   "id": "565f5385-5b25-4020-9a47-8516bfb075ff",
   "metadata": {},
   "outputs": [
    {
     "name": "stdout",
     "output_type": "stream",
     "text": [
      "i like avenger but not a great movie for grown ups\n",
      "i like avenger but not a great movie for grown ups\n"
     ]
    }
   ],
   "source": [
    "clean_spel_1=apply_lema(spel_1)\n",
    "clean_spel_2=apply_lema(spel_2)\n",
    "\n",
    "print(clean_spel_1)\n",
    "print(clean_spel_2)\n"
   ]
  },
  {
   "cell_type": "code",
   "execution_count": 13,
   "id": "84fe937b-0f82-4a78-a6c0-9c7319a494c6",
   "metadata": {},
   "outputs": [
    {
     "name": "stdout",
     "output_type": "stream",
     "text": [
      "['This mobile ', ' is good, but display ', ' is not good']\n"
     ]
    }
   ],
   "source": [
    "ugc_1='This mobile - is good, but display - is not good'\n",
    "ugc_1=ugc_1.split('-')\n",
    "print(ugc_1)\n"
   ]
  },
  {
   "cell_type": "code",
   "execution_count": 14,
   "id": "d9e287f2-0f0b-450e-bc13-5409b8431d75",
   "metadata": {},
   "outputs": [
    {
     "name": "stdout",
     "output_type": "stream",
     "text": [
      "This_Is_Byom_Speaking_about_rafale\n"
     ]
    }
   ],
   "source": [
    "dummy_list=['This','Is','Byom','Speaking','about','rafale']\n",
    "dummy_list=\"_\".join(dummy_list)\n",
    "print(dummy_list)\n"
   ]
  },
  {
   "cell_type": "code",
   "execution_count": 15,
   "id": "2ae8369f-0b11-4266-8050-4efd3005763a",
   "metadata": {},
   "outputs": [],
   "source": [
    "def remove_stopwords(sentence):\n",
    "    stop_words=set(stopwords.words('english'))\n",
    "    modified_stop_words=list(stop_words)\n",
    "    \n",
    "    \n",
    "    sentence=sentence.split()\n",
    "    \n",
    "    clean_sentence=[]\n",
    "    for word in sentence:\n",
    "        word=word.lower()\n",
    "        if word in set(modified_stop_words):\n",
    "            pass\n",
    "        else:\n",
    "            clean_sentence.append(word)\n",
    "        \n",
    "    clean_sentence=\" \".join(clean_sentence)\n",
    "        \n",
    "    return clean_sentence"
   ]
  },
  {
   "cell_type": "code",
   "execution_count": 16,
   "id": "3f4b0b95-a78a-4ade-b534-291df4baf0d5",
   "metadata": {},
   "outputs": [
    {
     "name": "stdout",
     "output_type": "stream",
     "text": [
      "good example case sensitivity\n"
     ]
    }
   ],
   "source": [
    "ugc_clean_1=remove_stopwords('This Is a Good example of case sensitivity')\n",
    "print(ugc_clean_1)\n"
   ]
  },
  {
   "cell_type": "code",
   "execution_count": 17,
   "id": "5a58adb3-d7f3-4053-8614-9a7698b9eaf1",
   "metadata": {},
   "outputs": [
    {
     "name": "stdout",
     "output_type": "stream",
     "text": [
      "False Before cleaning\n",
      "True After cleaning\n"
     ]
    }
   ],
   "source": [
    "#strip space replace\n",
    "\n",
    "a=\"space extra space\"\n",
    "b=\"space  extra  space\"\n",
    "\n",
    "print(a==b,'Before cleaning')\n",
    "\n",
    "b=b.replace('  ',' ')\n",
    "\n",
    "print(a==b,'After cleaning')\n"
   ]
  },
  {
   "cell_type": "code",
   "execution_count": 18,
   "id": "5225beaa-2b75-4ef8-a13f-7ee1c8a448c3",
   "metadata": {},
   "outputs": [
    {
     "name": "stdout",
     "output_type": "stream",
     "text": [
      "5  Byom\n",
      "4 Byom\n"
     ]
    }
   ],
   "source": [
    "random_string=\" Byom\"\n",
    "print(len(random_string),\" Byom\")\n",
    "stripping=random_string.strip()\n",
    "print(len(stripping),\"Byom\")\n"
   ]
  },
  {
   "cell_type": "code",
   "execution_count": 19,
   "id": "c3ea0c9c-abd0-4410-a3d7-d9161ca0997d",
   "metadata": {},
   "outputs": [
    {
     "name": "stdout",
     "output_type": "stream",
     "text": [
      "Byom Kesh Jha\n"
     ]
    }
   ],
   "source": [
    "a='byom Kesh Jha'\n",
    "\n",
    "a=a.replace('b','B')\n",
    "\n",
    "print(a)\n"
   ]
  },
  {
   "cell_type": "code",
   "execution_count": null,
   "id": "9d8f915f-420d-4a27-a7e6-177b503fb250",
   "metadata": {},
   "outputs": [],
   "source": []
  }
 ],
 "metadata": {
  "kernelspec": {
   "display_name": "Python 3 (ipykernel)",
   "language": "python",
   "name": "python3"
  },
  "language_info": {
   "codemirror_mode": {
    "name": "ipython",
    "version": 3
   },
   "file_extension": ".py",
   "mimetype": "text/x-python",
   "name": "python",
   "nbconvert_exporter": "python",
   "pygments_lexer": "ipython3",
   "version": "3.12.4"
  }
 },
 "nbformat": 4,
 "nbformat_minor": 5
}
